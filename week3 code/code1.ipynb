{
 "cells": [
  {
   "cell_type": "code",
   "execution_count": 2,
   "metadata": {},
   "outputs": [
    {
     "name": "stdout",
     "output_type": "stream",
     "text": [
      "   Frame  Right Lower Leg x  Right Lower Leg y  Right Lower Leg z  \\\n",
      "0      0           0.219806           0.236238           0.032050   \n",
      "1      1           0.152939           0.516317           0.034023   \n",
      "2      2           0.009686           0.089548          -0.045127   \n",
      "3      3          -0.052419          -0.036543           0.108497   \n",
      "4      4           0.065916          -0.276617           0.053206   \n",
      "\n",
      "   Left Lower Leg x  Left Lower Leg y  Left Lower Leg z  class  \n",
      "0          0.121231         -0.079631          0.020690      0  \n",
      "1          0.094984          0.134901          0.073241      0  \n",
      "2          0.028965          0.138562          0.047474      0  \n",
      "3         -0.063305          0.215892          0.038873      0  \n",
      "4          0.077462          0.142185          0.044010      0  \n"
     ]
    }
   ],
   "source": [
    "import pandas as pd\n",
    "\n",
    "# File paths for the Boning and Slicing datasets\n",
    "file_path_boning = r'C:\\week 3\\ampc2\\Boning.csv'\n",
    "file_path_slicing = r'C:\\week 3\\ampc2\\Slicing.csv'\n",
    "\n",
    "# Load the datasets\n",
    "data_boning = pd.read_csv(file_path_boning)\n",
    "data_slicing = pd.read_csv(file_path_slicing)\n",
    "\n",
    "# Define the correct columns to select\n",
    "selected_columns = [\n",
    "    'Frame',  # Frame column\n",
    "    'Right Lower Leg x', 'Right Lower Leg y', 'Right Lower Leg z',  # 3 columns for Right Hip/Leg\n",
    "    'Left Lower Leg x', 'Left Lower Leg y', 'Left Lower Leg z'  # 3 columns for Left Hip/Leg\n",
    "]\n",
    "\n",
    "# Extract the relevant columns from both datasets and add the class label\n",
    "boning_data = data_boning[selected_columns].copy()\n",
    "boning_data['class'] = 0  # Label for boning\n",
    "\n",
    "slicing_data = data_slicing[selected_columns].copy()\n",
    "slicing_data['class'] = 1  # Label for slicing\n",
    "\n",
    "# Combine both datasets into one DataFrame\n",
    "combined_data = pd.concat([boning_data, slicing_data], ignore_index=True)\n",
    "\n",
    "# Preview the combined data to ensure correctness\n",
    "print(combined_data.head())\n",
    "\n",
    "# Save the combined data to a new CSV file\n",
    "output_file_path = r'C:\\week 3\\ampc2\\combined_data.csv'\n",
    "combined_data.to_csv(output_file_path, index=False)\n"
   ]
  }
 ],
 "metadata": {
  "kernelspec": {
   "display_name": "Python 3",
   "language": "python",
   "name": "python3"
  },
  "language_info": {
   "codemirror_mode": {
    "name": "ipython",
    "version": 3
   },
   "file_extension": ".py",
   "mimetype": "text/x-python",
   "name": "python",
   "nbconvert_exporter": "python",
   "pygments_lexer": "ipython3",
   "version": "3.12.4"
  }
 },
 "nbformat": 4,
 "nbformat_minor": 2
}
